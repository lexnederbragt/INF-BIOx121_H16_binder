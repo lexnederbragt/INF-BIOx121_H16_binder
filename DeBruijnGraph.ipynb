{
 "cells": [
  {
   "cell_type": "markdown",
   "metadata": {},
   "source": [
    "#### Simple De Bruijn Graph implementation courtesy of Ben Langmead\n",
    "\n",
    "(see  the [Sources](https://github.com/lexnederbragt/INF-BIOx121_fall2014_de_novo_assembly/blob/master/Sources.md) document for original source and license of this code)\n",
    "\n",
    "How to use this notebook:\n",
    "\n",
    "* 'activate' cells by clicking on them with the mouse (you will see a blinking cursor)\n",
    "* execute cells by pressing the ctrl and enter keys simultaneously\n",
    "* you can also execute code by pressing shift + enter, this will put the cursor in the next cell\n",
    "\n",
    "Execute the first few cells until the one that generates the first plot. This will load the necessary python code."
   ]
  },
  {
   "cell_type": "code",
   "execution_count": null,
   "metadata": {
    "collapsed": false
   },
   "outputs": [],
   "source": [
    "class DeBruijnGraph:\n",
    "    ''' De Bruijn directed multigraph built from a collection of\n",
    "        strings. User supplies strings and k-mer length k.  Nodes\n",
    "        are k-1-mers.  An Edge corresponds to the k-mer that joins\n",
    "        a left k-1-mer to a right k-1-mer. '''\n",
    " \n",
    "    @staticmethod\n",
    "    def chop(st, k):\n",
    "        ''' Chop string into k-mers of given length '''\n",
    "        # workaround for the fact that length of the sequences\n",
    "        # in the nodes was one less than size of k in the original implementation\n",
    "        # as suggested by Katie Dean\n",
    "        k = k + 1\n",
    "        for i in xrange(0, len(st)-(k-1)):\n",
    "            yield (st[i:i+k], st[i:i+k-1], st[i+1:i+k])\n",
    "    \n",
    "    class Node:\n",
    "        ''' Node representing a k-1 mer.  Keep track of # of\n",
    "            incoming/outgoing edges so it's easy to check for\n",
    "            balanced, semi-balanced. '''\n",
    "        \n",
    "        def __init__(self, km1mer):\n",
    "            self.km1mer = km1mer\n",
    "            self.nin = 0\n",
    "            self.nout = 0\n",
    "        \n",
    "        def isSemiBalanced(self):\n",
    "            return abs(self.nin - self.nout) == 1\n",
    "        \n",
    "        def isBalanced(self):\n",
    "            return self.nin == self.nout\n",
    "        \n",
    "        def __hash__(self):\n",
    "            return hash(self.km1mer)\n",
    "        \n",
    "        def __str__(self):\n",
    "            return self.km1mer\n",
    "    \n",
    "    def __init__(self, strIter, k, circularize=False):\n",
    "        ''' Build de Bruijn multigraph given string iterator and k-mer\n",
    "            length k '''\n",
    "        self.G = {}     # multimap from nodes to neighbors\n",
    "        self.nodes = {} # maps k-1-mers to Node objects\n",
    "        for st in strIter:\n",
    "            if circularize:\n",
    "                st += st[:k-1]\n",
    "            for kmer, km1L, km1R in self.chop(st, k):\n",
    "                nodeL, nodeR = None, None\n",
    "                if km1L in self.nodes:\n",
    "                    nodeL = self.nodes[km1L]\n",
    "                else:\n",
    "                    nodeL = self.nodes[km1L] = self.Node(km1L)\n",
    "                if km1R in self.nodes:\n",
    "                    nodeR = self.nodes[km1R]\n",
    "                else:\n",
    "                    nodeR = self.nodes[km1R] = self.Node(km1R)\n",
    "                nodeL.nout += 1\n",
    "                nodeR.nin += 1\n",
    "                self.G.setdefault(nodeL, []).append(nodeR)\n",
    "        # Iterate over nodes; tally # balanced, semi-balanced, neither\n",
    "        self.nsemi, self.nbal, self.nneither = 0, 0, 0\n",
    "        # Keep track of head and tail nodes in the case of a graph with\n",
    "        # Eularian walk (not cycle)\n",
    "        self.head, self.tail = None, None\n",
    "        for node in self.nodes.itervalues():\n",
    "            if node.isBalanced():\n",
    "                self.nbal += 1\n",
    "            elif node.isSemiBalanced():\n",
    "                if node.nin == node.nout + 1:\n",
    "                    self.tail = node\n",
    "                if node.nin == node.nout - 1:\n",
    "                    self.head = node\n",
    "                self.nsemi += 1\n",
    "            else:\n",
    "                self.nneither += 1\n",
    "    \n",
    "    def nnodes(self):\n",
    "        ''' Return # nodes '''\n",
    "        return len(self.nodes)\n",
    "    \n",
    "    def nedges(self):\n",
    "        ''' Return # edges '''\n",
    "        return len(self.G)\n",
    "    \n",
    "    def hasEulerianWalk(self):\n",
    "        ''' Return true iff graph has Eulerian walk. '''\n",
    "        return self.nneither == 0 and self.nsemi == 2\n",
    "    \n",
    "    def hasEulerianCycle(self):\n",
    "        ''' Return true iff graph has Eulerian cycle. '''\n",
    "        return self.nneither == 0 and self.nsemi == 0\n",
    "    \n",
    "    def isEulerian(self):\n",
    "        ''' Return true iff graph has Eulerian walk or cycle '''\n",
    "        # technically, if it has an Eulerian walk\n",
    "        return self.hasEulerianWalk() or self.hasEulerianCycle()\n",
    "    \n",
    "    def eulerianWalkOrCycle(self):\n",
    "        ''' Find and return sequence of nodes (represented by\n",
    "            their k-1-mer labels) corresponding to Eulerian walk\n",
    "            or cycle '''\n",
    "        assert self.isEulerian()\n",
    "        g = self.G\n",
    "        if self.hasEulerianWalk():\n",
    "            g = g.copy()\n",
    "            g.setdefault(self.tail, []).append(self.head)\n",
    "        # graph g has an Eulerian cycle\n",
    "        tour = []\n",
    "        src = g.iterkeys().next() # pick arbitrary starting node\n",
    "        \n",
    "        def __visit(n):\n",
    "            while len(g[n]) > 0:\n",
    "                dst = g[n].pop()\n",
    "                __visit(dst)\n",
    "            tour.append(n)\n",
    "        \n",
    "        __visit(src)\n",
    "        tour = tour[::-1][:-1] # reverse and then take all but last node\n",
    "            \n",
    "        if self.hasEulerianWalk():\n",
    "            # Adjust node list so that it starts at head and ends at tail\n",
    "            sti = tour.index(self.head)\n",
    "            tour = tour[sti:] + tour[:sti]\n",
    "        \n",
    "        # Return node list\n",
    "        return map(str, tour)"
   ]
  },
  {
   "cell_type": "code",
   "execution_count": null,
   "metadata": {
    "collapsed": false
   },
   "outputs": [],
   "source": [
    "class DeBruijnPlot(DeBruijnGraph):\n",
    "    def to_dot(self, weights=False):\n",
    "        \"\"\" Write dot representation to given filehandle.  If 'weights'\n",
    "            is true, label edges corresponding to distinct k-1-mers\n",
    "            with weights, instead of writing a separate edge for each\n",
    "            copy of a k-1-mer. \"\"\"\n",
    "        dot_str = []\n",
    "        dot_str.append(\"digraph \\\"DeBruijn graph\\\" {\\n\")\n",
    "        dot_str.append(\"  bgcolor=\\\"transparent\\\";\\n\")\n",
    "        for node in self.G.iterkeys():\n",
    "            lab = node.km1mer\n",
    "            dot_str.append(\"  %s [label=\\\"%s\\\"] ;\\n\" % (lab, lab))\n",
    "        for src, dsts in self.G.iteritems():\n",
    "            srclab = src.km1mer\n",
    "            if weights:\n",
    "                weightmap = {}\n",
    "                if weights:\n",
    "                    for dst in dsts:\n",
    "                        weightmap[dst] = weightmap.get(dst, 0) + 1\n",
    "                for dst, v in weightmap.iteritems():\n",
    "                    dstlab = dst.km1mer\n",
    "                    dot_str.append(\"  %s -> %s [label=\\\"%d\\\"] ;\\n\" % (srclab, dstlab, v))\n",
    "            else:\n",
    "                for dst in dsts:\n",
    "                    srclab = src.km1mer\n",
    "                    dstlab = dst.km1mer\n",
    "                    dot_str.append(\"  %s -> %s [label=\\\"\\\"] ;\\n\" % (srclab, dstlab))\n",
    "        dot_str.append(\"}\\n\")\n",
    "        return ''.join(dot_str)"
   ]
  },
  {
   "cell_type": "code",
   "execution_count": null,
   "metadata": {
    "collapsed": false
   },
   "outputs": [],
   "source": [
    "# Ignore the warning\n",
    "%install_ext https://raw.githubusercontent.com/cjdrake/ipython-magic/master/gvmagic.py"
   ]
  },
  {
   "cell_type": "code",
   "execution_count": null,
   "metadata": {
    "collapsed": false
   },
   "outputs": [],
   "source": [
    "%load_ext gvmagic"
   ]
  },
  {
   "cell_type": "markdown",
   "metadata": {},
   "source": [
    "----\n",
    "**Exercise 1: simple De Bruijn graph**\n",
    "\n",
    "Do the exercise by execute the code cell below.\n",
    "\n",
    "Let's first generate a really simple De Bruijn graph of a short read 'GCTGATCGATTT' with kmer size 4  \n",
    "\n",
    "* study the graph and see if it indeed encodes the read\n",
    "* now change the kmer size to 3 and again trace the read: what happened? Why?"
   ]
  },
  {
   "cell_type": "code",
   "execution_count": null,
   "metadata": {
    "collapsed": false
   },
   "outputs": [],
   "source": [
    "%dotobj DeBruijnPlot(['GCTGATCGATTT'], 4)"
   ]
  },
  {
   "cell_type": "markdown",
   "metadata": {},
   "source": [
    "----\n",
    "**Exercise 2: simple overlap**\n",
    "\n",
    "The following command will generate the De Bruijn graph with k = 4 for two reads that have some overlap:\n",
    "\n",
    "```\n",
    "GCTGATCGATTT  \n",
    "      CGATTTTCGGCGAA\n",
    "```\n",
    "\n",
    "* find the two reads again in the graph: which nodes represent the overlap?\n",
    "* change k from 4 to 5, to 6, to 7, to 8, what happens?"
   ]
  },
  {
   "cell_type": "code",
   "execution_count": null,
   "metadata": {
    "collapsed": false
   },
   "outputs": [],
   "source": [
    "%dotobj DeBruijnPlot(['GCTGATCGATTT', 'CGATTTTCGGCGAA'], 4)"
   ]
  },
  {
   "cell_type": "markdown",
   "metadata": {},
   "source": [
    "----\n",
    "\n",
    "**Exercise 3: overlap and an internal repeat**\n",
    "\n",
    "* these two reads overlap, but also have  short repeat: the sequence `ATCGA` is present in both reads\n",
    "\n",
    "```\n",
    "GCTGATCGATTT\n",
    "      CGATTTTATCGAAA\n",
    "```\n",
    "\n",
    "* what happened with the repeat? And the overlap?\n",
    "* change k from 4 to 5, to 6, to 7, to 8, what happens?"
   ]
  },
  {
   "cell_type": "code",
   "execution_count": null,
   "metadata": {
    "collapsed": false
   },
   "outputs": [],
   "source": [
    "%dotobj DeBruijnPlot(['GCTGATCGATTT', 'CGATTTTATCGAAA'], 4)"
   ]
  },
  {
   "cell_type": "markdown",
   "metadata": {},
   "source": [
    "**Exercise 4: resolving a repeat**\n",
    "\n",
    "The following sequence has two copies of the `ATCGA` repeat\n",
    "\n",
    "Decrease and increase the kmer size stepwise\n",
    "* at what kmer size is the repeat resolved?\n",
    "* why this kmer size?"
   ]
  },
  {
   "cell_type": "code",
   "execution_count": null,
   "metadata": {
    "collapsed": false
   },
   "outputs": [],
   "source": [
    "%dotobj DeBruijnPlot(['GCTGATCGATATGGATTTTATCGAAAAGTCGTAGTC'], 5)"
   ]
  },
  {
   "cell_type": "markdown",
   "metadata": {},
   "source": [
    "----\n",
    "**Exercise 5: read with error**\n",
    "\n",
    "* these two reads are identical, except for a one base 'error' in the second one\n",
    "\n",
    "```\n",
    "GCTGATCGATTT\n",
    "GCTGATAGATTT\n",
    "```\n",
    "\n",
    "* create the graph with kmer size 5 and *5 copies* of the first read (the command is already filled out below)\n",
    "* add *one copy* of the second read (again, kmer size 5)\n",
    "* explain the graph\n",
    "* increase the kmer size"
   ]
  },
  {
   "cell_type": "code",
   "execution_count": null,
   "metadata": {
    "collapsed": false
   },
   "outputs": [],
   "source": [
    "%dotobj DeBruijnPlot(['GCTGATCGATTT','GCTGATCGATTT','GCTGATCGATTT','GCTGATCGATTT','GCTGATCGATTT'], 5)"
   ]
  }
 ],
 "metadata": {
  "kernelspec": {
   "display_name": "Python 2",
   "language": "python",
   "name": "python2"
  },
  "language_info": {
   "codemirror_mode": {
    "name": "ipython",
    "version": 2
   },
   "file_extension": ".py",
   "mimetype": "text/x-python",
   "name": "python",
   "nbconvert_exporter": "python",
   "pygments_lexer": "ipython2",
   "version": "2.7.10"
  }
 },
 "nbformat": 4,
 "nbformat_minor": 0
}
