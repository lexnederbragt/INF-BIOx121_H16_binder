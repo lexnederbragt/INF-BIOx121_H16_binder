{
 "cells": [
  {
   "cell_type": "markdown",
   "metadata": {},
   "source": [
    "Determining `exp_cov` for velvet from the coverage distribution of the contigs\n",
    "============================================\n",
    "How to use this notebook:\n",
    "\n",
    "* 'activate' cells by clicking on them with the mouse (you will see a blinking cursor)\n",
    "* execute cells by pressing the ctrl and enter keys simultaneously\n",
    "* you can also execute code by pressing shift + enter, this will put the cursor in the next cell\n",
    "\n",
    "The first cell imports some modules and prepares the notebook"
   ]
  },
  {
   "cell_type": "code",
   "execution_count": null,
   "metadata": {
    "collapsed": false
   },
   "outputs": [],
   "source": [
    "import pandas as pd\n",
    "import numpy as np\n",
    "from matplotlib import pyplot as plt\n",
    "%matplotlib inline"
   ]
  },
  {
   "cell_type": "markdown",
   "metadata": {},
   "source": [
    "This code uses the python *pandas* package to read the stats.txt file as a so-calledpandas dataframe"
   ]
  },
  {
   "cell_type": "code",
   "execution_count": null,
   "metadata": {
    "collapsed": false
   },
   "outputs": [],
   "source": [
    "stats = pd.read_table(\"stats.txt\")"
   ]
  },
  {
   "cell_type": "markdown",
   "metadata": {},
   "source": [
    "Let's look at the first lines of the dataframe (i.e., the imported data). The different columns are:\n",
    "\n",
    "* ID: name of the node, corresponding to NODE\\_ in the contigs.fa file\n",
    "* lgth: length of the node (sequence) in kmer size  (BUT see the velvet manual)\n",
    "* out and in: number of connections to other nodes\n",
    "* long_cov, short1_cov, short1_Ocov, short2_cov, short2_Ocov: coverage of the different input read datasets. 'long' refers to Sanger reads, if used. For detail, see the velvet manual\n",
    "* long_nb, short1_nb, short2_nb: your etacher has no idea..."
   ]
  },
  {
   "cell_type": "code",
   "execution_count": null,
   "metadata": {
    "collapsed": false
   },
   "outputs": [],
   "source": [
    "stats.head()"
   ]
  },
  {
   "cell_type": "markdown",
   "metadata": {
    "collapsed": false
   },
   "source": [
    "We are interested in the short1_cov column which contains the average kmer coverage of each node. Let's use pandas `describe` function to summarise it:"
   ]
  },
  {
   "cell_type": "code",
   "execution_count": null,
   "metadata": {
    "collapsed": false
   },
   "outputs": [],
   "source": [
    "stats.short1_cov.describe()"
   ]
  },
  {
   "cell_type": "markdown",
   "metadata": {},
   "source": [
    "Now we are going to plot the distribution of the short1_cov data:"
   ]
  },
  {
   "cell_type": "code",
   "execution_count": null,
   "metadata": {
    "collapsed": false
   },
   "outputs": [],
   "source": [
    "y,binEdges=np.histogram(stats.short1_cov,bins=max(stats.short1_cov))\n",
    "bincenters = 0.5*(binEdges[1:]+binEdges[:-1])\n",
    "plt.plot(bincenters,y,'-')\n",
    "plt.title(\"Coverage of nodes in the graph\")\n",
    "plt.xlabel(\"Coverage\")\n",
    "plt.ylabel(\"Frequency\")\n",
    "plt.xlim((0,50))\n",
    "plt.ylim((0,100))\n",
    "plt.show()"
   ]
  },
  {
   "cell_type": "markdown",
   "metadata": {},
   "source": [
    "The *peak value* in this histogram can be used as a guide to the best k-mer value for `exp_cov`."
   ]
  }
 ],
 "metadata": {
  "kernelspec": {
   "display_name": "Python 2",
   "language": "python",
   "name": "python2"
  },
  "language_info": {
   "codemirror_mode": {
    "name": "ipython",
    "version": 2
   },
   "file_extension": ".py",
   "mimetype": "text/x-python",
   "name": "python",
   "nbconvert_exporter": "python",
   "pygments_lexer": "ipython2",
   "version": "2.7.10"
  }
 },
 "nbformat": 4,
 "nbformat_minor": 0
}
